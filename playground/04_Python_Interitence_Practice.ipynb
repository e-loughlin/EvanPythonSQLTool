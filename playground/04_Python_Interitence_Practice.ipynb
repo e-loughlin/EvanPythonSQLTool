{
 "cells": [
  {
   "cell_type": "markdown",
   "id": "0dedd006-662a-4425-a5ee-26da0a9de25c",
   "metadata": {},
   "source": [
    "# 04 - Visualization\n",
    "\n",
    "This section was created to demonstrate some visualization capabilities of the bin-chicken library. \n",
    "That library was mostly just created to exercise some OOP / Interface Inheritance practices (ABC) in Python."
   ]
  },
  {
   "cell_type": "code",
   "execution_count": 5,
   "id": "4b1d72c9-412a-40ae-b2ca-e0bb3e289043",
   "metadata": {},
   "outputs": [
    {
     "ename": "ModuleNotFoundError",
     "evalue": "No module named 'binchicken.visualizion'",
     "output_type": "error",
     "traceback": [
      "\u001b[0;31m---------------------------------------------------------------------------\u001b[0m",
      "\u001b[0;31mModuleNotFoundError\u001b[0m                       Traceback (most recent call last)",
      "Cell \u001b[0;32mIn[5], line 8\u001b[0m\n\u001b[1;32m      4\u001b[0m \u001b[38;5;28;01mimport\u001b[39;00m \u001b[38;5;21;01msys\u001b[39;00m\u001b[38;5;241m,\u001b[39m \u001b[38;5;21;01mos\u001b[39;00m \n\u001b[1;32m      6\u001b[0m sys\u001b[38;5;241m.\u001b[39mpath\u001b[38;5;241m.\u001b[39mappend(os\u001b[38;5;241m.\u001b[39mpath\u001b[38;5;241m.\u001b[39mabspath(\u001b[38;5;124m'\u001b[39m\u001b[38;5;124m../binchicken\u001b[39m\u001b[38;5;124m'\u001b[39m))\n\u001b[0;32m----> 8\u001b[0m \u001b[38;5;28;01mfrom\u001b[39;00m \u001b[38;5;21;01mbinchicken\u001b[39;00m\u001b[38;5;21;01m.\u001b[39;00m\u001b[38;5;21;01mvisualizion\u001b[39;00m \u001b[38;5;28;01mimport\u001b[39;00m DatabaseVisualizer\n\u001b[1;32m      9\u001b[0m \u001b[38;5;28;01mfrom\u001b[39;00m \u001b[38;5;21;01mbinchicken\u001b[39;00m\u001b[38;5;21;01m.\u001b[39;00m\u001b[38;5;21;01mdb_handler\u001b[39;00m \u001b[38;5;28;01mimport\u001b[39;00m PandasDBHandler\n\u001b[1;32m     12\u001b[0m \u001b[38;5;66;03m# Example with Pandas DataFrame\u001b[39;00m\n",
      "\u001b[0;31mModuleNotFoundError\u001b[0m: No module named 'binchicken.visualizion'"
     ]
    }
   ],
   "source": [
    "import pandas as pd\n",
    "import ibis\n",
    "import sqlite3\n",
    "import sys, os \n",
    "\n",
    "sys.path.append(os.path.abspath('../binchicken'))\n",
    "\n",
    "from visualizion import DatabaseVisualizer\n",
    "from bincdb_handler import PandasDBHandler\n",
    "\n",
    "\n",
    "# Example with Pandas DataFrame\n",
    "df = pd.DataFrame({\n",
    "    # Your DataFrame data\n",
    "})\n",
    "pandas_handler = PandasDBHandler(df)\n",
    "tool = EvanPythonSQLTool(pandas_handler)\n",
    "tool.visualize_table_sizes()\n",
    "tool.visualize_row_counts()\n",
    "tool.visualize_index_usage()\n",
    "tool.visualize_query_performance()\n",
    "\n",
    "# Example with Ibis Connection\n",
    "ibis_connection = ibis.connect('your_ibis_connection_string')\n",
    "ibis_handler = IbisDBHandler(ibis_connection)\n",
    "tool = EvanPythonSQLTool(ibis_handler)\n",
    "tool.visualize_table_sizes()\n",
    "tool.visualize_row_counts()\n",
    "tool.visualize_index_usage()\n",
    "tool.visualize_query_performance()\n",
    "\n",
    "# Example with SQLite3 Connection\n",
    "sqlite_connection = sqlite3.connect('your_database.db')\n",
    "sqlite_handler = SQLiteDBHandler(sqlite_connection)\n",
    "tool = EvanPythonSQLTool(sqlite_handler)\n",
    "tool.visualize_table_sizes()\n",
    "tool.visualize_row_counts()\n",
    "tool.visualize_index_usage()\n",
    "tool.visualize_query_performance()\n"
   ]
  },
  {
   "cell_type": "code",
   "execution_count": null,
   "id": "5b692036-af35-4562-ad21-1137a4acc623",
   "metadata": {},
   "outputs": [],
   "source": []
  }
 ],
 "metadata": {
  "kernelspec": {
   "display_name": "Python 3 (ipykernel)",
   "language": "python",
   "name": "python3"
  },
  "language_info": {
   "codemirror_mode": {
    "name": "ipython",
    "version": 3
   },
   "file_extension": ".py",
   "mimetype": "text/x-python",
   "name": "python",
   "nbconvert_exporter": "python",
   "pygments_lexer": "ipython3",
   "version": "3.12.4"
  }
 },
 "nbformat": 4,
 "nbformat_minor": 5
}
