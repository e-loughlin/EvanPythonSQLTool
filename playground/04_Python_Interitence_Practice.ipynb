{
 "cells": [
  {
   "cell_type": "markdown",
   "id": "0dedd006-662a-4425-a5ee-26da0a9de25c",
   "metadata": {},
   "source": [
    "# 04 - Visualization\n",
    "\n",
    "This section was created to demonstrate some visualization capabilities of the bin-chicken library. \n",
    "Really, this library was mostly just created to exercise some OOP / Interface Inheritance practices (ABC) in Python.\n",
    "\n",
    "## TODO:\n",
    "- Finish the code\n",
    "- Write a UML diagram (simple) describing the Interfaces\n",
    "- Write code for interfacing the visualizer (MatPlotLib, Seaborn, etc)\n",
    "- Showing the aggregation for varying types that implement the same type"
   ]
  },
  {
   "cell_type": "code",
   "execution_count": 9,
   "id": "4b1d72c9-412a-40ae-b2ca-e0bb3e289043",
   "metadata": {},
   "outputs": [
    {
     "ename": "AttributeError",
     "evalue": "module 'ibis' has no attribute 'client'. ",
     "output_type": "error",
     "traceback": [
      "\u001b[0;31m---------------------------------------------------------------------------\u001b[0m",
      "\u001b[0;31mAttributeError\u001b[0m                            Traceback (most recent call last)",
      "Cell \u001b[0;32mIn[9], line 8\u001b[0m\n\u001b[1;32m      6\u001b[0m \u001b[38;5;66;03m# Bin Chicken Imports\u001b[39;00m\n\u001b[1;32m      7\u001b[0m sys\u001b[38;5;241m.\u001b[39mpath\u001b[38;5;241m.\u001b[39mappend(os\u001b[38;5;241m.\u001b[39mpath\u001b[38;5;241m.\u001b[39mabspath(\u001b[38;5;124m'\u001b[39m\u001b[38;5;124m../binchicken\u001b[39m\u001b[38;5;124m'\u001b[39m))\n\u001b[0;32m----> 8\u001b[0m \u001b[38;5;28;01mfrom\u001b[39;00m \u001b[38;5;21;01mvisualization\u001b[39;00m \u001b[38;5;28;01mimport\u001b[39;00m DatabaseVisualizer\n\u001b[1;32m      9\u001b[0m \u001b[38;5;28;01mfrom\u001b[39;00m \u001b[38;5;21;01mdb_handler\u001b[39;00m \u001b[38;5;28;01mimport\u001b[39;00m PandasDBHandler\n\u001b[1;32m     12\u001b[0m \u001b[38;5;66;03m# Example with Pandas DataFrame\u001b[39;00m\n",
      "File \u001b[0;32m~/ws/bin-chicken/binchicken/visualization.py:4\u001b[0m\n\u001b[1;32m      1\u001b[0m \u001b[38;5;28;01mfrom\u001b[39;00m \u001b[38;5;21;01mabc\u001b[39;00m \u001b[38;5;28;01mimport\u001b[39;00m ABC, abstractmethod\n\u001b[1;32m      3\u001b[0m \u001b[38;5;28;01mimport\u001b[39;00m \u001b[38;5;21;01mmatplotlib\u001b[39;00m\u001b[38;5;21;01m.\u001b[39;00m\u001b[38;5;21;01mpyplot\u001b[39;00m \u001b[38;5;28;01mas\u001b[39;00m \u001b[38;5;21;01mplt\u001b[39;00m\n\u001b[0;32m----> 4\u001b[0m \u001b[38;5;28;01mfrom\u001b[39;00m \u001b[38;5;21;01mdb_handler\u001b[39;00m \u001b[38;5;28;01mimport\u001b[39;00m DBHandler\n\u001b[1;32m      7\u001b[0m \u001b[38;5;28;01mclass\u001b[39;00m \u001b[38;5;21;01mDatabaseVisualizer\u001b[39;00m(ABC):\n\u001b[1;32m      8\u001b[0m     \u001b[38;5;129m@abstractmethod\u001b[39m\n\u001b[1;32m      9\u001b[0m     \u001b[38;5;28;01mdef\u001b[39;00m \u001b[38;5;21mvisualize_table_sizes\u001b[39m(\u001b[38;5;28mself\u001b[39m):\n",
      "File \u001b[0;32m~/ws/bin-chicken/binchicken/db_handler.py:47\u001b[0m\n\u001b[1;32m     42\u001b[0m     \u001b[38;5;28;01mdef\u001b[39;00m \u001b[38;5;21mget_query_performance\u001b[39m(\u001b[38;5;28mself\u001b[39m):\n\u001b[1;32m     43\u001b[0m         \u001b[38;5;66;03m# Implement logic to get query performance from a Pandas DataFrame\u001b[39;00m\n\u001b[1;32m     44\u001b[0m         \u001b[38;5;28;01mpass\u001b[39;00m\n\u001b[0;32m---> 47\u001b[0m \u001b[38;5;28;43;01mclass\u001b[39;49;00m\u001b[43m \u001b[49m\u001b[38;5;21;43;01mIbisDBHandler\u001b[39;49;00m\u001b[43m(\u001b[49m\u001b[43mDBHandler\u001b[49m\u001b[43m)\u001b[49m\u001b[43m:\u001b[49m\n\u001b[1;32m     48\u001b[0m \u001b[43m    \u001b[49m\u001b[38;5;28;43;01mdef\u001b[39;49;00m\u001b[43m \u001b[49m\u001b[38;5;21;43m__init__\u001b[39;49m\u001b[43m(\u001b[49m\u001b[38;5;28;43mself\u001b[39;49m\u001b[43m,\u001b[49m\u001b[43m \u001b[49m\u001b[43mconnection\u001b[49m\u001b[43m:\u001b[49m\u001b[43m \u001b[49m\u001b[43mibis\u001b[49m\u001b[38;5;241;43m.\u001b[39;49m\u001b[43mclient\u001b[49m\u001b[38;5;241;43m.\u001b[39;49m\u001b[43mClient\u001b[49m\u001b[43m)\u001b[49m\u001b[43m:\u001b[49m\n\u001b[1;32m     49\u001b[0m \u001b[43m        \u001b[49m\u001b[38;5;28;43mself\u001b[39;49m\u001b[38;5;241;43m.\u001b[39;49m\u001b[43mconnection\u001b[49m\u001b[43m \u001b[49m\u001b[38;5;241;43m=\u001b[39;49m\u001b[43m \u001b[49m\u001b[43mconnection\u001b[49m\n",
      "File \u001b[0;32m~/ws/bin-chicken/binchicken/db_handler.py:48\u001b[0m, in \u001b[0;36mIbisDBHandler\u001b[0;34m()\u001b[0m\n\u001b[1;32m     47\u001b[0m \u001b[38;5;28;01mclass\u001b[39;00m \u001b[38;5;21;01mIbisDBHandler\u001b[39;00m(DBHandler):\n\u001b[0;32m---> 48\u001b[0m     \u001b[38;5;28;01mdef\u001b[39;00m \u001b[38;5;21m__init__\u001b[39m(\u001b[38;5;28mself\u001b[39m, connection: \u001b[43mibis\u001b[49m\u001b[38;5;241;43m.\u001b[39;49m\u001b[43mclient\u001b[49m\u001b[38;5;241m.\u001b[39mClient):\n\u001b[1;32m     49\u001b[0m         \u001b[38;5;28mself\u001b[39m\u001b[38;5;241m.\u001b[39mconnection \u001b[38;5;241m=\u001b[39m connection\n\u001b[1;32m     51\u001b[0m     \u001b[38;5;28;01mdef\u001b[39;00m \u001b[38;5;21mget_table_sizes\u001b[39m(\u001b[38;5;28mself\u001b[39m):\n\u001b[1;32m     52\u001b[0m         \u001b[38;5;66;03m# Implement logic to get table sizes from an Ibis connection\u001b[39;00m\n",
      "File \u001b[0;32m~/ws/bin-chicken/env/lib/python3.12/site-packages/ibis/__init__.py:143\u001b[0m, in \u001b[0;36m__getattr__\u001b[0;34m(name)\u001b[0m\n\u001b[1;32m    141\u001b[0m     \u001b[38;5;28;01mreturn\u001b[39;00m null()  \u001b[38;5;66;03m# noqa: F405\u001b[39;00m\n\u001b[1;32m    142\u001b[0m \u001b[38;5;28;01melse\u001b[39;00m:\n\u001b[0;32m--> 143\u001b[0m     \u001b[38;5;28;01mreturn\u001b[39;00m \u001b[43mload_backend\u001b[49m\u001b[43m(\u001b[49m\u001b[43mname\u001b[49m\u001b[43m)\u001b[49m\n",
      "File \u001b[0;32m~/ws/bin-chicken/env/lib/python3.12/site-packages/ibis/__init__.py:66\u001b[0m, in \u001b[0;36mload_backend\u001b[0;34m(name)\u001b[0m\n\u001b[1;32m     63\u001b[0m     \u001b[38;5;28;01mif\u001b[39;00m name \u001b[38;5;129;01min\u001b[39;00m _KNOWN_BACKENDS:\n\u001b[1;32m     64\u001b[0m         msg \u001b[38;5;241m+\u001b[39m\u001b[38;5;241m=\u001b[39m \u001b[38;5;124mf\u001b[39m\u001b[38;5;124m\"\"\"\u001b[39m\u001b[38;5;124mIf you are trying to access the \u001b[39m\u001b[38;5;124m'\u001b[39m\u001b[38;5;132;01m{\u001b[39;00mname\u001b[38;5;132;01m}\u001b[39;00m\u001b[38;5;124m'\u001b[39m\u001b[38;5;124m backend,\u001b[39m\n\u001b[1;32m     65\u001b[0m \u001b[38;5;124m                try installing it first with `pip install \u001b[39m\u001b[38;5;124m'\u001b[39m\u001b[38;5;124mibis-framework[\u001b[39m\u001b[38;5;132;01m{\u001b[39;00mname\u001b[38;5;132;01m}\u001b[39;00m\u001b[38;5;124m]\u001b[39m\u001b[38;5;124m'\u001b[39m\u001b[38;5;124m`\u001b[39m\u001b[38;5;124m\"\"\"\u001b[39m\n\u001b[0;32m---> 66\u001b[0m     \u001b[38;5;28;01mraise\u001b[39;00m \u001b[38;5;167;01mAttributeError\u001b[39;00m(msg)\n\u001b[1;32m     68\u001b[0m \u001b[38;5;28;01mif\u001b[39;00m \u001b[38;5;28mlen\u001b[39m(entry_points) \u001b[38;5;241m>\u001b[39m \u001b[38;5;241m1\u001b[39m:\n\u001b[1;32m     69\u001b[0m     \u001b[38;5;28;01mraise\u001b[39;00m \u001b[38;5;167;01mRuntimeError\u001b[39;00m(\n\u001b[1;32m     70\u001b[0m         \u001b[38;5;124mf\u001b[39m\u001b[38;5;124m\"\u001b[39m\u001b[38;5;132;01m{\u001b[39;00m\u001b[38;5;28mlen\u001b[39m(entry_points)\u001b[38;5;132;01m}\u001b[39;00m\u001b[38;5;124m packages found for backend \u001b[39m\u001b[38;5;124m'\u001b[39m\u001b[38;5;132;01m{\u001b[39;00mname\u001b[38;5;132;01m}\u001b[39;00m\u001b[38;5;124m'\u001b[39m\u001b[38;5;124m: \u001b[39m\u001b[38;5;124m\"\u001b[39m\n\u001b[1;32m     71\u001b[0m         \u001b[38;5;124mf\u001b[39m\u001b[38;5;124m\"\u001b[39m\u001b[38;5;132;01m{\u001b[39;00mentry_points\u001b[38;5;132;01m}\u001b[39;00m\u001b[38;5;130;01m\\n\u001b[39;00m\u001b[38;5;124m\"\u001b[39m\n\u001b[1;32m     72\u001b[0m         \u001b[38;5;124m\"\u001b[39m\u001b[38;5;124mThere should be only one, please uninstall the unused packages \u001b[39m\u001b[38;5;124m\"\u001b[39m\n\u001b[1;32m     73\u001b[0m         \u001b[38;5;124m\"\u001b[39m\u001b[38;5;124mand just leave the one that needs to be used.\u001b[39m\u001b[38;5;124m\"\u001b[39m\n\u001b[1;32m     74\u001b[0m     )\n",
      "\u001b[0;31mAttributeError\u001b[0m: module 'ibis' has no attribute 'client'. "
     ]
    }
   ],
   "source": [
    "import pandas as pd\n",
    "import ibis\n",
    "import sqlite3\n",
    "import sys, os \n",
    "\n",
    "# Bin Chicken Imports\n",
    "sys.path.append(os.path.abspath('../binchicken'))\n",
    "from visualization import DatabaseVisualizer\n",
    "from db_handler import PandasDBHandler\n",
    "\n",
    "\n",
    "# Example with Pandas DataFrame\n",
    "df = pd.DataFrame({\n",
    "    # Your DataFrame data\n",
    "})\n",
    "pandas_handler = PandasDBHandler(df)\n",
    "tool = EvanPythonSQLTool(pandas_handler)\n",
    "tool.visualize_table_sizes()\n",
    "tool.visualize_row_counts()\n",
    "tool.visualize_index_usage()\n",
    "tool.visualize_query_performance()\n"
   ]
  },
  {
   "cell_type": "code",
   "execution_count": null,
   "id": "5b692036-af35-4562-ad21-1137a4acc623",
   "metadata": {},
   "outputs": [],
   "source": []
  }
 ],
 "metadata": {
  "kernelspec": {
   "display_name": "Python 3 (ipykernel)",
   "language": "python",
   "name": "python3"
  },
  "language_info": {
   "codemirror_mode": {
    "name": "ipython",
    "version": 3
   },
   "file_extension": ".py",
   "mimetype": "text/x-python",
   "name": "python",
   "nbconvert_exporter": "python",
   "pygments_lexer": "ipython3",
   "version": "3.12.4"
  }
 },
 "nbformat": 4,
 "nbformat_minor": 5
}
