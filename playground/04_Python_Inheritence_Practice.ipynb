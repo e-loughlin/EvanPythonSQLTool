{
 "cells": [
  {
   "cell_type": "markdown",
   "id": "0dedd006-662a-4425-a5ee-26da0a9de25c",
   "metadata": {},
   "source": [
    "# 04 - Visualization\n",
    "\n",
    "This section was created to demonstrate some visualization capabilities of the bin-chicken library. \n",
    "Really, this library was mostly just created to exercise some OOP / Interface Inheritance practices (ABC) in Python.\n",
    "\n",
    "## TODO:\n",
    "- Finish the code\n",
    "- Write a UML diagram (simple) describing the Interfaces\n",
    "- Write code for interfacing the visualizer (MatPlotLib, Seaborn, etc)\n",
    "- Showing the aggregation for varying types that implement the same type"
   ]
  },
  {
   "cell_type": "code",
   "execution_count": 1,
   "id": "4b1d72c9-412a-40ae-b2ca-e0bb3e289043",
   "metadata": {},
   "outputs": [
    {
     "ename": "TypeError",
     "evalue": "'NoneType' object is not subscriptable",
     "output_type": "error",
     "traceback": [
      "\u001b[0;31m---------------------------------------------------------------------------\u001b[0m",
      "\u001b[0;31mTypeError\u001b[0m                                 Traceback (most recent call last)",
      "Cell \u001b[0;32mIn[1], line 22\u001b[0m\n\u001b[1;32m     19\u001b[0m db_visualizer \u001b[38;5;241m=\u001b[39m DatabaseVisualizer(sqlite_db_handler)\n\u001b[1;32m     21\u001b[0m \u001b[38;5;66;03m# Visualize table sizes\u001b[39;00m\n\u001b[0;32m---> 22\u001b[0m \u001b[43mdb_visualizer\u001b[49m\u001b[38;5;241;43m.\u001b[39;49m\u001b[43mvisualize_table_sizes\u001b[49m\u001b[43m(\u001b[49m\u001b[43m)\u001b[49m\n\u001b[1;32m     24\u001b[0m \u001b[38;5;66;03m# Visualize row counts\u001b[39;00m\n\u001b[1;32m     25\u001b[0m db_visualizer\u001b[38;5;241m.\u001b[39mvisualize_row_counts()\n",
      "File \u001b[0;32m~/ws/bin-chicken/binchicken/visualization.py:22\u001b[0m, in \u001b[0;36mDatabaseVisualizer.visualize_table_sizes\u001b[0;34m(self)\u001b[0m\n\u001b[1;32m     21\u001b[0m \u001b[38;5;28;01mdef\u001b[39;00m \u001b[38;5;21mvisualize_table_sizes\u001b[39m(\u001b[38;5;28mself\u001b[39m):\n\u001b[0;32m---> 22\u001b[0m     sizes \u001b[38;5;241m=\u001b[39m \u001b[38;5;28;43mself\u001b[39;49m\u001b[38;5;241;43m.\u001b[39;49m\u001b[43mdb_handler\u001b[49m\u001b[38;5;241;43m.\u001b[39;49m\u001b[43mget_table_sizes\u001b[49m\u001b[43m(\u001b[49m\u001b[43m)\u001b[49m\n\u001b[1;32m     23\u001b[0m     tables \u001b[38;5;241m=\u001b[39m \u001b[38;5;28mlist\u001b[39m(sizes\u001b[38;5;241m.\u001b[39mkeys())\n\u001b[1;32m     24\u001b[0m     size_values \u001b[38;5;241m=\u001b[39m \u001b[38;5;28mlist\u001b[39m(sizes\u001b[38;5;241m.\u001b[39mvalues())\n",
      "File \u001b[0;32m~/ws/bin-chicken/binchicken/db_handler.py:37\u001b[0m, in \u001b[0;36mSQLiteDBHandler.get_table_sizes\u001b[0;34m(self)\u001b[0m\n\u001b[1;32m     35\u001b[0m     page_count \u001b[38;5;241m=\u001b[39m cursor\u001b[38;5;241m.\u001b[39mfetchone()[\u001b[38;5;241m0\u001b[39m]\n\u001b[1;32m     36\u001b[0m     cursor\u001b[38;5;241m.\u001b[39mexecute(\u001b[38;5;124mf\u001b[39m\u001b[38;5;124m\"\u001b[39m\u001b[38;5;124mPRAGMA page_size(\u001b[39m\u001b[38;5;124m'\u001b[39m\u001b[38;5;132;01m{\u001b[39;00mtable_name\u001b[38;5;132;01m}\u001b[39;00m\u001b[38;5;124m'\u001b[39m\u001b[38;5;124m);\u001b[39m\u001b[38;5;124m\"\u001b[39m)\n\u001b[0;32m---> 37\u001b[0m     page_size \u001b[38;5;241m=\u001b[39m \u001b[43mcursor\u001b[49m\u001b[38;5;241;43m.\u001b[39;49m\u001b[43mfetchone\u001b[49m\u001b[43m(\u001b[49m\u001b[43m)\u001b[49m\u001b[43m[\u001b[49m\u001b[38;5;241;43m0\u001b[39;49m\u001b[43m]\u001b[49m\n\u001b[1;32m     38\u001b[0m     table_sizes[table_name] \u001b[38;5;241m=\u001b[39m (page_count \u001b[38;5;241m*\u001b[39m page_size) \u001b[38;5;241m/\u001b[39m (\n\u001b[1;32m     39\u001b[0m         \u001b[38;5;241m1024\u001b[39m\u001b[38;5;241m*\u001b[39m\u001b[38;5;241m*\u001b[39m\u001b[38;5;241m2\u001b[39m\n\u001b[1;32m     40\u001b[0m     )  \u001b[38;5;66;03m# Convert bytes to MB\u001b[39;00m\n\u001b[1;32m     41\u001b[0m \u001b[38;5;28;01mreturn\u001b[39;00m table_sizes\n",
      "\u001b[0;31mTypeError\u001b[0m: 'NoneType' object is not subscriptable"
     ]
    }
   ],
   "source": [
    "import pandas as pd\n",
    "import ibis\n",
    "import sqlite3\n",
    "import sys, os \n",
    "\n",
    "# Bin Chicken Imports\n",
    "sys.path.append(os.path.abspath('../binchicken'))\n",
    "from visualization import DatabaseVisualizer\n",
    "from db_handler import SQLiteDBHandler\n",
    "\n",
    "\n",
    "# Connect to the SQLite database\n",
    "connection = sqlite3.connect('sakila.db')\n",
    "\n",
    "# Initialize the SQLiteDBHandler with the connection\n",
    "sqlite_db_handler = SQLiteDBHandler(connection)\n",
    "\n",
    "# Initialize the DatabaseVisualizer with the DBHandler\n",
    "db_visualizer = DatabaseVisualizer(sqlite_db_handler)\n",
    "\n",
    "# Visualize table sizes\n",
    "db_visualizer.visualize_table_sizes()\n",
    "\n",
    "# Visualize row counts\n",
    "db_visualizer.visualize_row_counts()\n",
    "\n",
    "\n"
   ]
  },
  {
   "cell_type": "code",
   "execution_count": null,
   "id": "5b692036-af35-4562-ad21-1137a4acc623",
   "metadata": {},
   "outputs": [],
   "source": []
  }
 ],
 "metadata": {
  "kernelspec": {
   "display_name": "Python 3 (ipykernel)",
   "language": "python",
   "name": "python3"
  },
  "language_info": {
   "codemirror_mode": {
    "name": "ipython",
    "version": 3
   },
   "file_extension": ".py",
   "mimetype": "text/x-python",
   "name": "python",
   "nbconvert_exporter": "python",
   "pygments_lexer": "ipython3",
   "version": "3.12.4"
  }
 },
 "nbformat": 4,
 "nbformat_minor": 5
}
