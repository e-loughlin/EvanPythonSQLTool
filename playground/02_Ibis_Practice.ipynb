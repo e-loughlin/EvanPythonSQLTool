{
 "cells": [
  {
   "cell_type": "code",
   "execution_count": 1,
   "id": "5a88c008-ecbd-40a0-bf18-9d508d985664",
   "metadata": {},
   "outputs": [],
   "source": [
    "import ibis\n",
    "import openai\n"
   ]
  },
  {
   "cell_type": "code",
   "execution_count": 2,
   "id": "c826f318-abde-461b-b979-67328f1a16e3",
   "metadata": {},
   "outputs": [
    {
     "data": {
      "text/plain": [
       "['actor',\n",
       " 'address',\n",
       " 'category',\n",
       " 'city',\n",
       " 'country',\n",
       " 'customer',\n",
       " 'customer_list',\n",
       " 'film',\n",
       " 'film_actor',\n",
       " 'film_category',\n",
       " 'film_list',\n",
       " 'film_text',\n",
       " 'inventory',\n",
       " 'language',\n",
       " 'payment',\n",
       " 'rental',\n",
       " 'sales_by_film_category',\n",
       " 'sales_by_store',\n",
       " 'staff',\n",
       " 'staff_list',\n",
       " 'store']"
      ]
     },
     "execution_count": 2,
     "metadata": {},
     "output_type": "execute_result"
    }
   ],
   "source": [
    "conn = ibis.connect(\"sqlite://sakila.db\")\n",
    "conn.list_tables()\n"
   ]
  },
  {
   "cell_type": "code",
   "execution_count": 3,
   "id": "57046416-4a56-49ec-abe4-478cf052152d",
   "metadata": {},
   "outputs": [
    {
     "data": {
      "text/html": [
       "<pre style=\"white-space:pre;overflow-x:auto;line-height:normal;font-family:Menlo,'DejaVu Sans Mono',consolas,'Courier New',monospace\">SQLQueryResult\n",
       "  query:\n",
       "    SELECT * FROM actor\n",
       "  schema:\n",
       "    actor_id    decimal\n",
       "    first_name  string\n",
       "    last_name   string\n",
       "    last_update timestamp\n",
       "</pre>\n"
      ],
      "text/plain": [
       "SQLQueryResult\n",
       "  query:\n",
       "    SELECT * FROM actor\n",
       "  schema:\n",
       "    actor_id    decimal\n",
       "    first_name  string\n",
       "    last_name   string\n",
       "    last_update timestamp"
      ]
     },
     "execution_count": 3,
     "metadata": {},
     "output_type": "execute_result"
    }
   ],
   "source": [
    "conn.sql(\"SELECT * FROM actor\")"
   ]
  },
  {
   "cell_type": "code",
   "execution_count": 4,
   "id": "5d7fb924-9fb6-4e34-8934-5603acf67419",
   "metadata": {},
   "outputs": [
    {
     "data": {
      "text/plain": [
       "<ibis.backends.sqlite.Backend at 0x1056b18e0>"
      ]
     },
     "execution_count": 4,
     "metadata": {},
     "output_type": "execute_result"
    }
   ],
   "source": [
    "conn"
   ]
  },
  {
   "cell_type": "code",
   "execution_count": null,
   "id": "5ad58b29-900e-4ee6-b852-6799ff580360",
   "metadata": {},
   "outputs": [],
   "source": []
  },
  {
   "cell_type": "code",
   "execution_count": null,
   "id": "bc63a997-9a6c-40de-97ac-1a05f0d33772",
   "metadata": {},
   "outputs": [],
   "source": []
  }
 ],
 "metadata": {
  "kernelspec": {
   "display_name": "Python 3 (ipykernel)",
   "language": "python",
   "name": "python3"
  },
  "language_info": {
   "codemirror_mode": {
    "name": "ipython",
    "version": 3
   },
   "file_extension": ".py",
   "mimetype": "text/x-python",
   "name": "python",
   "nbconvert_exporter": "python",
   "pygments_lexer": "ipython3",
   "version": "3.12.4"
  }
 },
 "nbformat": 4,
 "nbformat_minor": 5
}
